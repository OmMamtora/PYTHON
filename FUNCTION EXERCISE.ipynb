{
 "cells": [
  {
   "cell_type": "code",
   "execution_count": 1,
   "id": "99d923a8",
   "metadata": {},
   "outputs": [],
   "source": [
    " #1: print Hello World\n",
    "    \n",
    "def myfun():\n",
    "    print('Hello World')"
   ]
  },
  {
   "cell_type": "code",
   "execution_count": 2,
   "id": "ed1c29c4",
   "metadata": {},
   "outputs": [
    {
     "name": "stdout",
     "output_type": "stream",
     "text": [
      "Hello World\n"
     ]
    }
   ],
   "source": [
    "myfun()"
   ]
  },
  {
   "cell_type": "code",
   "execution_count": 3,
   "id": "77780838",
   "metadata": {},
   "outputs": [],
   "source": [
    " #2: print Hello Name\n",
    "\n",
    "def myfun(name):\n",
    "    print(f'Hello {name}')"
   ]
  },
  {
   "cell_type": "code",
   "execution_count": 4,
   "id": "e4666443",
   "metadata": {},
   "outputs": [
    {
     "name": "stdout",
     "output_type": "stream",
     "text": [
      "Hello Om\n"
     ]
    }
   ],
   "source": [
    "myfun('Om')"
   ]
  },
  {
   "cell_type": "code",
   "execution_count": 7,
   "id": "74511ed0",
   "metadata": {},
   "outputs": [],
   "source": [
    "#3 - simple Boolean\n",
    "\n",
    "def myfun(a):\n",
    "    if a==True:\n",
    "        return 'Hello'\n",
    "    else:\n",
    "        return 'Goodbye'"
   ]
  },
  {
   "cell_type": "code",
   "execution_count": 9,
   "id": "cf61ea7f",
   "metadata": {},
   "outputs": [
    {
     "data": {
      "text/plain": [
       "'Hello'"
      ]
     },
     "execution_count": 9,
     "metadata": {},
     "output_type": "execute_result"
    }
   ],
   "source": [
    "myfun(True)"
   ]
  },
  {
   "cell_type": "code",
   "execution_count": 10,
   "id": "7dc20557",
   "metadata": {},
   "outputs": [],
   "source": [
    "#3 - simple Boolean\n",
    "\n",
    "def myfun(a):\n",
    "    if a==True:\n",
    "         print('Hello')\n",
    "    else:\n",
    "        print('Goodbye')"
   ]
  },
  {
   "cell_type": "code",
   "execution_count": 11,
   "id": "4d11f6a8",
   "metadata": {},
   "outputs": [
    {
     "name": "stdout",
     "output_type": "stream",
     "text": [
      "Hello\n"
     ]
    }
   ],
   "source": [
    "myfun(True)"
   ]
  },
  {
   "cell_type": "code",
   "execution_count": 12,
   "id": "572b6ed5",
   "metadata": {},
   "outputs": [
    {
     "name": "stdout",
     "output_type": "stream",
     "text": [
      "Goodbye\n"
     ]
    }
   ],
   "source": [
    "myfun(False)"
   ]
  },
  {
   "cell_type": "code",
   "execution_count": 13,
   "id": "94eb7d9e",
   "metadata": {},
   "outputs": [],
   "source": [
    "#4 - using Booleans\n",
    "\n",
    "def myfun(x,y,z):\n",
    "    if z==True:\n",
    "        return y\n",
    "    else:\n",
    "        return y"
   ]
  },
  {
   "cell_type": "code",
   "execution_count": 14,
   "id": "cd6062e0",
   "metadata": {},
   "outputs": [
    {
     "data": {
      "text/plain": [
       "20"
      ]
     },
     "execution_count": 14,
     "metadata": {},
     "output_type": "execute_result"
    }
   ],
   "source": [
    "myfun(10,20,30)"
   ]
  },
  {
   "cell_type": "code",
   "execution_count": 17,
   "id": "9a9b3e01",
   "metadata": {},
   "outputs": [],
   "source": [
    "#5: simple math\n",
    "\n",
    "def myfun(x,y):\n",
    "    return x+y"
   ]
  },
  {
   "cell_type": "code",
   "execution_count": 18,
   "id": "a4c0ad03",
   "metadata": {},
   "outputs": [
    {
     "data": {
      "text/plain": [
       "30"
      ]
     },
     "execution_count": 18,
     "metadata": {},
     "output_type": "execute_result"
    }
   ],
   "source": [
    "myfun(10,20)"
   ]
  },
  {
   "cell_type": "code",
   "execution_count": 20,
   "id": "d91ea940",
   "metadata": {},
   "outputs": [],
   "source": [
    "#6: is even\n",
    "\n",
    "def even_or_not(x):\n",
    "    if x%2==0:\n",
    "        return True\n",
    "    else:\n",
    "        return False"
   ]
  },
  {
   "cell_type": "code",
   "execution_count": 21,
   "id": "3b8daecf",
   "metadata": {},
   "outputs": [
    {
     "data": {
      "text/plain": [
       "False"
      ]
     },
     "execution_count": 21,
     "metadata": {},
     "output_type": "execute_result"
    }
   ],
   "source": [
    "even_or_not(15)"
   ]
  },
  {
   "cell_type": "code",
   "execution_count": 22,
   "id": "99f53401",
   "metadata": {},
   "outputs": [
    {
     "data": {
      "text/plain": [
       "True"
      ]
     },
     "execution_count": 22,
     "metadata": {},
     "output_type": "execute_result"
    }
   ],
   "source": [
    "even_or_not(12)"
   ]
  },
  {
   "cell_type": "code",
   "execution_count": 23,
   "id": "99d0b861",
   "metadata": {},
   "outputs": [],
   "source": [
    " #7: is greater\n",
    "    \n",
    "def greater_or_not(x,y):\n",
    "    if x>y:\n",
    "        return True\n",
    "    else:\n",
    "        return False"
   ]
  },
  {
   "cell_type": "code",
   "execution_count": 24,
   "id": "6f8e123b",
   "metadata": {},
   "outputs": [
    {
     "data": {
      "text/plain": [
       "False"
      ]
     },
     "execution_count": 24,
     "metadata": {},
     "output_type": "execute_result"
    }
   ],
   "source": [
    "greater_or_not(2,5)"
   ]
  },
  {
   "cell_type": "code",
   "execution_count": null,
   "id": "693162c8",
   "metadata": {},
   "outputs": [],
   "source": []
  }
 ],
 "metadata": {
  "kernelspec": {
   "display_name": "Python 3 (ipykernel)",
   "language": "python",
   "name": "python3"
  },
  "language_info": {
   "codemirror_mode": {
    "name": "ipython",
    "version": 3
   },
   "file_extension": ".py",
   "mimetype": "text/x-python",
   "name": "python",
   "nbconvert_exporter": "python",
   "pygments_lexer": "ipython3",
   "version": "3.9.13"
  }
 },
 "nbformat": 4,
 "nbformat_minor": 5
}
