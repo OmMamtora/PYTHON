{
 "cells": [
  {
   "cell_type": "code",
   "execution_count": 1,
   "id": "8357d8e3",
   "metadata": {},
   "outputs": [
    {
     "name": "stdout",
     "output_type": "stream",
     "text": [
      "IT'S True!\n"
     ]
    }
   ],
   "source": [
    "if True:\n",
    "    print(\"IT'S True!\")"
   ]
  },
  {
   "cell_type": "code",
   "execution_count": 2,
   "id": "f994a43e",
   "metadata": {},
   "outputs": [
    {
     "name": "stdout",
     "output_type": "stream",
     "text": [
      "Feed me!\n"
     ]
    }
   ],
   "source": [
    "hungry=True\n",
    "\n",
    "if hungry:\n",
    "    print(\"Feed me!\")"
   ]
  },
  {
   "cell_type": "code",
   "execution_count": 3,
   "id": "8a2ddf3f",
   "metadata": {},
   "outputs": [],
   "source": [
    "hungry=False\n",
    "\n",
    "if hungry:\n",
    "    print(\"Feed me!\")"
   ]
  },
  {
   "cell_type": "code",
   "execution_count": 4,
   "id": "9862f818",
   "metadata": {},
   "outputs": [
    {
     "name": "stdout",
     "output_type": "stream",
     "text": [
      "I am not hungry!\n"
     ]
    }
   ],
   "source": [
    "hungry=True\n",
    "\n",
    "if hungry:\n",
    "    print(\"I am not hungry!\")"
   ]
  },
  {
   "cell_type": "code",
   "execution_count": 5,
   "id": "4b750924",
   "metadata": {},
   "outputs": [
    {
     "name": "stdout",
     "output_type": "stream",
     "text": [
      "Feed Me!\n"
     ]
    }
   ],
   "source": [
    "hungry=True\n",
    "\n",
    "if hungry:\n",
    "    print(\"Feed Me!\")\n",
    "else:\n",
    "    print(\"I am not hungry!\")"
   ]
  },
  {
   "cell_type": "code",
   "execution_count": 8,
   "id": "e3113916",
   "metadata": {},
   "outputs": [
    {
     "name": "stdout",
     "output_type": "stream",
     "text": [
      "Welcome in the game..\n"
     ]
    }
   ],
   "source": [
    "loc='Game'\n",
    "\n",
    "if loc=='Game':\n",
    "    print(\"Welcome in the game..\")\n",
    "elif loc=='bank':\n",
    "    print(\"You are in bank..\")\n",
    "else:\n",
    "    print(\"I don't know where are you!\")"
   ]
  },
  {
   "cell_type": "code",
   "execution_count": 9,
   "id": "6e4f854f",
   "metadata": {},
   "outputs": [
    {
     "name": "stdout",
     "output_type": "stream",
     "text": [
      "This language is easy to learn and advance language\n"
     ]
    }
   ],
   "source": [
    "language='Python'\n",
    "\n",
    "if language=='C':\n",
    "    print(\"This is basic language.\")\n",
    "elif language=='C++':\n",
    "    print(\"This is Advance language compare to C language\")\n",
    "elif language=='Python':\n",
    "    print(\"This language is easy to learn and advance language\")\n",
    "else:\n",
    "    print(\"Learn new language..\")"
   ]
  },
  {
   "cell_type": "code",
   "execution_count": 10,
   "id": "6f6ee0c0",
   "metadata": {},
   "outputs": [
    {
     "name": "stdout",
     "output_type": "stream",
     "text": [
      "Learn new language..\n"
     ]
    }
   ],
   "source": [
    "language='dbms'\n",
    "\n",
    "if language=='C':\n",
    "    print(\"This is basic language.\")\n",
    "elif language=='C++':\n",
    "    print(\"This is Advance language compare to C language\")\n",
    "elif language=='Python':\n",
    "    print(\"This language is easy to learn and advance language\")\n",
    "else:\n",
    "    print(\"Learn new language..\")"
   ]
  },
  {
   "cell_type": "code",
   "execution_count": null,
   "id": "f88e5e45",
   "metadata": {},
   "outputs": [],
   "source": []
  }
 ],
 "metadata": {
  "kernelspec": {
   "display_name": "Python 3 (ipykernel)",
   "language": "python",
   "name": "python3"
  },
  "language_info": {
   "codemirror_mode": {
    "name": "ipython",
    "version": 3
   },
   "file_extension": ".py",
   "mimetype": "text/x-python",
   "name": "python",
   "nbconvert_exporter": "python",
   "pygments_lexer": "ipython3",
   "version": "3.9.13"
  }
 },
 "nbformat": 4,
 "nbformat_minor": 5
}
