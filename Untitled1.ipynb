{
 "cells": [
  {
   "cell_type": "code",
   "execution_count": 3,
   "id": "3be4bee8",
   "metadata": {},
   "outputs": [],
   "source": [
    "my_string='Om Mamtora'\n"
   ]
  },
  {
   "cell_type": "code",
   "execution_count": 4,
   "id": "144908c8",
   "metadata": {},
   "outputs": [
    {
     "data": {
      "text/plain": [
       "'arotmaM mO'"
      ]
     },
     "execution_count": 4,
     "metadata": {},
     "output_type": "execute_result"
    }
   ],
   "source": [
    "my_string[::-1]"
   ]
  },
  {
   "cell_type": "code",
   "execution_count": null,
   "id": "90b8d8bc",
   "metadata": {},
   "outputs": [],
   "source": []
  },
  {
   "cell_type": "code",
   "execution_count": 5,
   "id": "1b60a6bb",
   "metadata": {},
   "outputs": [
    {
     "ename": "SyntaxError",
     "evalue": "invalid non-printable character U+00A0 (836407511.py, line 1)",
     "output_type": "error",
     "traceback": [
      "\u001b[1;36m  File \u001b[1;32m\"C:\\Users\\ommam\\AppData\\Local\\Temp\\ipykernel_1540\\836407511.py\"\u001b[1;36m, line \u001b[1;32m1\u001b[0m\n\u001b[1;33m    num = input(\"Enter a value:\")\u001b[0m\n\u001b[1;37m       ^\u001b[0m\n\u001b[1;31mSyntaxError\u001b[0m\u001b[1;31m:\u001b[0m invalid non-printable character U+00A0\n"
     ]
    }
   ],
   "source": [
    "num = input(\"Enter a value:\")  \n",
    "temp = num  \n",
    "rev = 0  \n",
    "while(num > 0):  \n",
    "    dig = num % 10  \n",
    "    revrev = rev * 10 + dig  \n",
    "    numnum = num // 10  \n",
    "    if(temp == rev):  \n",
    "        print(\"This value is a palindrome number!\")  \n",
    "    else:  \n",
    "        print(\"This value is not a palindrome number!\")  \n",
    "\n"
   ]
  },
  {
   "cell_type": "code",
   "execution_count": 19,
   "id": "affdb742",
   "metadata": {},
   "outputs": [
    {
     "name": "stdout",
     "output_type": "stream",
     "text": [
      "Enter a NUmber:12321\n",
      "Not Palindrome\n"
     ]
    }
   ],
   "source": [
    "num=int(input('Enter a NUmber:'))\n",
    "temp=num\n",
    "rev=0\n",
    "while num>0:\n",
    "    dig=num%10\n",
    "    rev=rev*10+dig\n",
    "    num//=10\n",
    "if(temp==rev):\n",
    "    print('Palindrome')\n",
    "else:\n",
    "    print('Not Palindrome')"
   ]
  },
  {
   "cell_type": "code",
   "execution_count": 18,
   "id": "41932a68",
   "metadata": {},
   "outputs": [],
   "source": [
    "my_string='om mamtora'"
   ]
  },
  {
   "cell_type": "code",
   "execution_count": 11,
   "id": "a1d31cba",
   "metadata": {},
   "outputs": [
    {
     "name": "stdout",
     "output_type": "stream",
     "text": [
      "Enter a NUmber:12321\n"
     ]
    },
    {
     "ename": "TypeError",
     "evalue": "'int' object is not reversible",
     "output_type": "error",
     "traceback": [
      "\u001b[1;31m---------------------------------------------------------------------------\u001b[0m",
      "\u001b[1;31mTypeError\u001b[0m                                 Traceback (most recent call last)",
      "\u001b[1;32m~\\AppData\\Local\\Temp\\ipykernel_1540\\2777226036.py\u001b[0m in \u001b[0;36m<module>\u001b[1;34m\u001b[0m\n\u001b[0;32m      1\u001b[0m \u001b[0mnum\u001b[0m\u001b[1;33m=\u001b[0m\u001b[0mint\u001b[0m\u001b[1;33m(\u001b[0m\u001b[0minput\u001b[0m\u001b[1;33m(\u001b[0m\u001b[1;34m'Enter a NUmber:'\u001b[0m\u001b[1;33m)\u001b[0m\u001b[1;33m)\u001b[0m\u001b[1;33m\u001b[0m\u001b[1;33m\u001b[0m\u001b[0m\n\u001b[0;32m      2\u001b[0m \u001b[1;33m\u001b[0m\u001b[0m\n\u001b[1;32m----> 3\u001b[1;33m \u001b[0mrev\u001b[0m\u001b[1;33m=\u001b[0m\u001b[0mint\u001b[0m\u001b[1;33m(\u001b[0m\u001b[0mreversed\u001b[0m\u001b[1;33m(\u001b[0m\u001b[0mnum\u001b[0m\u001b[1;33m)\u001b[0m\u001b[1;33m)\u001b[0m\u001b[1;33m\u001b[0m\u001b[1;33m\u001b[0m\u001b[0m\n\u001b[0m\u001b[0;32m      4\u001b[0m \u001b[1;32mif\u001b[0m \u001b[0mlist\u001b[0m\u001b[1;33m(\u001b[0m\u001b[0mnum\u001b[0m\u001b[1;33m)\u001b[0m\u001b[1;33m==\u001b[0m\u001b[0mlist\u001b[0m\u001b[1;33m(\u001b[0m\u001b[0mrev\u001b[0m\u001b[1;33m)\u001b[0m\u001b[1;33m:\u001b[0m\u001b[1;33m\u001b[0m\u001b[1;33m\u001b[0m\u001b[0m\n\u001b[0;32m      5\u001b[0m     \u001b[0mprint\u001b[0m\u001b[1;33m(\u001b[0m\u001b[1;34m'palidrome'\u001b[0m\u001b[1;33m)\u001b[0m\u001b[1;33m\u001b[0m\u001b[1;33m\u001b[0m\u001b[0m\n",
      "\u001b[1;31mTypeError\u001b[0m: 'int' object is not reversible"
     ]
    }
   ],
   "source": [
    "num=int(input('Enter a NUmber:'))\n",
    "\n",
    "rev=int(reversed(num))\n",
    "if list(num)==list(rev):\n",
    "    print('palidrome')\n",
    "else:\n",
    "    print('Not palidrome')"
   ]
  },
  {
   "cell_type": "code",
   "execution_count": 43,
   "id": "e7419dda",
   "metadata": {},
   "outputs": [
    {
     "name": "stdout",
     "output_type": "stream",
     "text": [
      "* /r\n",
      "* * /r\n",
      "* * * /r\n",
      "* * * * /r\n",
      "* * * * * /r\n"
     ]
    }
   ],
   "source": [
    "n=5\n",
    "\n",
    "k=n-1\n",
    "for i in range(0,5):\n",
    "    for j in range(0,k):\n",
    "        print(end='')\n",
    "    k=k-1\n",
    "        \n",
    "    for j in range(i+1):\n",
    "        print(\"* \",end=\"\")\n",
    "    print(\"/r\")"
   ]
  },
  {
   "cell_type": "code",
   "execution_count": 40,
   "id": "35109946",
   "metadata": {},
   "outputs": [
    {
     "name": "stdout",
     "output_type": "stream",
     "text": [
      "* /n\n",
      "* * /n\n",
      "* * * /n\n",
      "* * * * /n\n",
      "* * * * * /n\n"
     ]
    }
   ],
   "source": [
    "n=5\n",
    "k = n - 1\n",
    "for i in range(0,n):\n",
    "    for j in range(0,k):\n",
    "        print(end=\"\")\n",
    "    k=k-1\n",
    "    for j in range(0,i+1):\n",
    "        print(\"* \", end=\"\")\n",
    "    print('/n')"
   ]
  },
  {
   "cell_type": "code",
   "execution_count": 45,
   "id": "81434123",
   "metadata": {},
   "outputs": [
    {
     "name": "stdout",
     "output_type": "stream",
     "text": [
      "0.0 is not a prime number\n"
     ]
    }
   ],
   "source": [
    "if num > 1:\n",
    "   \n",
    "   for i in range(2,num):\n",
    "       if (num % i) == 0:\n",
    "           print(num,\"is not a prime number\")\n",
    "           print(i,\"times\",num//i,\"is\",num)\n",
    "           break\n",
    "   else:\n",
    "       print(num,\"is a prime number\")\n",
    "       \n",
    "# if input number is less than\n",
    "# or equal to 1, it is not prime\n",
    "else:\n",
    "   print(num,\"is not a prime number\")"
   ]
  },
  {
   "cell_type": "code",
   "execution_count": null,
   "id": "a42514ca",
   "metadata": {},
   "outputs": [],
   "source": [
    "num=int(input('Enter a number:'))\n",
    "if num>1:\n",
    "    for i in range(2,num):\n",
    "        if num%2==0:\n",
    "            print(num,' is not a prime number')\n",
    "            break\n",
    "        else:\n",
    "            print(num,' is prime number')\n",
    "            break\n",
    "else:\n",
    "    print('Enter a number which is greater than 1')"
   ]
  },
  {
   "cell_type": "code",
   "execution_count": null,
   "id": "90bec4fd",
   "metadata": {},
   "outputs": [],
   "source": []
  },
  {
   "cell_type": "code",
   "execution_count": null,
   "id": "f0dbf31a",
   "metadata": {},
   "outputs": [],
   "source": []
  },
  {
   "cell_type": "code",
   "execution_count": null,
   "id": "e1a43003",
   "metadata": {},
   "outputs": [],
   "source": []
  },
  {
   "cell_type": "code",
   "execution_count": null,
   "id": "5ab78408",
   "metadata": {},
   "outputs": [],
   "source": [
    "#Lest video is 47,49"
   ]
  }
 ],
 "metadata": {
  "kernelspec": {
   "display_name": "Python 3 (ipykernel)",
   "language": "python",
   "name": "python3"
  },
  "language_info": {
   "codemirror_mode": {
    "name": "ipython",
    "version": 3
   },
   "file_extension": ".py",
   "mimetype": "text/x-python",
   "name": "python",
   "nbconvert_exporter": "python",
   "pygments_lexer": "ipython3",
   "version": "3.9.13"
  }
 },
 "nbformat": 4,
 "nbformat_minor": 5
}
