{
 "cells": [
  {
   "cell_type": "code",
   "execution_count": 1,
   "id": "11349c4c",
   "metadata": {},
   "outputs": [],
   "source": [
    "mylist=[1,2,3]"
   ]
  },
  {
   "cell_type": "code",
   "execution_count": 2,
   "id": "816f269c",
   "metadata": {},
   "outputs": [
    {
     "name": "stdout",
     "output_type": "stream",
     "text": [
      "0\n",
      "1\n",
      "2\n",
      "3\n",
      "4\n",
      "5\n",
      "6\n",
      "7\n",
      "8\n",
      "9\n"
     ]
    }
   ],
   "source": [
    "#range(start,stop,step)\n",
    "\n",
    "for i in range(10):\n",
    "    print(i)"
   ]
  },
  {
   "cell_type": "code",
   "execution_count": 3,
   "id": "86d5ebfe",
   "metadata": {},
   "outputs": [
    {
     "name": "stdout",
     "output_type": "stream",
     "text": [
      "1\n",
      "3\n",
      "5\n",
      "7\n",
      "9\n"
     ]
    }
   ],
   "source": [
    "#range(start,stop,step)\n",
    "\n",
    "for i in range(1,10,2):\n",
    "    print(i)"
   ]
  },
  {
   "cell_type": "code",
   "execution_count": 4,
   "id": "710c2b28",
   "metadata": {},
   "outputs": [
    {
     "name": "stdout",
     "output_type": "stream",
     "text": [
      "0\n",
      "2\n",
      "4\n",
      "6\n",
      "8\n"
     ]
    }
   ],
   "source": [
    "for i in range(0,10,2):\n",
    "    print(i)"
   ]
  },
  {
   "cell_type": "code",
   "execution_count": 5,
   "id": "0b2617b4",
   "metadata": {},
   "outputs": [
    {
     "data": {
      "text/plain": [
       "range(1, 10, 2)"
      ]
     },
     "execution_count": 5,
     "metadata": {},
     "output_type": "execute_result"
    }
   ],
   "source": [
    "range(1,10,2)"
   ]
  },
  {
   "cell_type": "code",
   "execution_count": 6,
   "id": "c186f0b0",
   "metadata": {},
   "outputs": [
    {
     "data": {
      "text/plain": [
       "[1, 3, 5, 7, 9]"
      ]
     },
     "execution_count": 6,
     "metadata": {},
     "output_type": "execute_result"
    }
   ],
   "source": [
    "list(range(1,10,2))"
   ]
  },
  {
   "cell_type": "code",
   "execution_count": 7,
   "id": "7bcb08c7",
   "metadata": {},
   "outputs": [
    {
     "name": "stdout",
     "output_type": "stream",
     "text": [
      "At index 0 letter is a\n",
      "At index 1 letter is b\n",
      "At index 2 letter is c\n",
      "At index 3 letter is d\n",
      "At index 4 letter is e\n"
     ]
    }
   ],
   "source": [
    "index_count=0\n",
    "\n",
    "for letter in 'abcde':\n",
    "    print(f'At index {index_count} letter is {letter}')\n",
    "    index_count+=1"
   ]
  },
  {
   "cell_type": "code",
   "execution_count": 8,
   "id": "e375ee27",
   "metadata": {},
   "outputs": [
    {
     "name": "stdout",
     "output_type": "stream",
     "text": [
      "At index 0 letter is a\n",
      "At index 1 letter is b\n",
      "At index 2 letter is c\n",
      "At index 3 letter is d\n",
      "At index 4 letter is e\n"
     ]
    }
   ],
   "source": [
    "index_count=0\n",
    "\n",
    "for letter in 'abcde':\n",
    "    print('At index {} letter is {}'.format(index_count,letter))\n",
    "    index_count+=1"
   ]
  },
  {
   "cell_type": "code",
   "execution_count": 9,
   "id": "9841a93a",
   "metadata": {},
   "outputs": [
    {
     "name": "stdout",
     "output_type": "stream",
     "text": [
      "(0, 'a')\n",
      "(1, 'b')\n",
      "(2, 'c')\n",
      "(3, 'd')\n",
      "(4, 'e')\n"
     ]
    }
   ],
   "source": [
    "#enumerate doing index counting with the element\n",
    "\n",
    "\n",
    "word='abcde'\n",
    "\n",
    "for item in enumerate(word):\n",
    "    print(item)"
   ]
  },
  {
   "cell_type": "code",
   "execution_count": 10,
   "id": "860b19e7",
   "metadata": {},
   "outputs": [],
   "source": [
    "#zip function\n",
    "\n",
    "mylist1=[1,2,3]\n",
    "mylist2=['a','b','c']"
   ]
  },
  {
   "cell_type": "code",
   "execution_count": 11,
   "id": "9b4a0d36",
   "metadata": {},
   "outputs": [
    {
     "data": {
      "text/plain": [
       "<zip at 0x1d5c8c8f980>"
      ]
     },
     "execution_count": 11,
     "metadata": {},
     "output_type": "execute_result"
    }
   ],
   "source": [
    "zip(mylist1,mylist2)"
   ]
  },
  {
   "cell_type": "code",
   "execution_count": 12,
   "id": "6bce0b34",
   "metadata": {},
   "outputs": [
    {
     "name": "stdout",
     "output_type": "stream",
     "text": [
      "(1, 'a')\n",
      "(2, 'b')\n",
      "(3, 'c')\n"
     ]
    }
   ],
   "source": [
    "for item in zip(mylist1,mylist2):\n",
    "    print(item)"
   ]
  },
  {
   "cell_type": "code",
   "execution_count": 13,
   "id": "658fd58a",
   "metadata": {},
   "outputs": [],
   "source": [
    "mylist1=[1,2,3,4]\n",
    "mylist2=['a','b','c']"
   ]
  },
  {
   "cell_type": "code",
   "execution_count": 14,
   "id": "57aa5d4f",
   "metadata": {},
   "outputs": [
    {
     "name": "stdout",
     "output_type": "stream",
     "text": [
      "(1, 'a')\n",
      "(2, 'b')\n",
      "(3, 'c')\n"
     ]
    }
   ],
   "source": [
    "for item in zip(mylist1,mylist2):\n",
    "    print(item)"
   ]
  },
  {
   "cell_type": "code",
   "execution_count": 15,
   "id": "7adc4f0e",
   "metadata": {},
   "outputs": [
    {
     "data": {
      "text/plain": [
       "False"
      ]
     },
     "execution_count": 15,
     "metadata": {},
     "output_type": "execute_result"
    }
   ],
   "source": [
    "#IN\n",
    "\n",
    "'x' in [1,2,3]"
   ]
  },
  {
   "cell_type": "code",
   "execution_count": 16,
   "id": "085d8cfd",
   "metadata": {},
   "outputs": [
    {
     "data": {
      "text/plain": [
       "True"
      ]
     },
     "execution_count": 16,
     "metadata": {},
     "output_type": "execute_result"
    }
   ],
   "source": [
    "2 in [1,2,3]"
   ]
  },
  {
   "cell_type": "code",
   "execution_count": 17,
   "id": "109a9aee",
   "metadata": {},
   "outputs": [
    {
     "data": {
      "text/plain": [
       "True"
      ]
     },
     "execution_count": 17,
     "metadata": {},
     "output_type": "execute_result"
    }
   ],
   "source": [
    "'o' in 'om mamtora'"
   ]
  },
  {
   "cell_type": "code",
   "execution_count": 18,
   "id": "3e93db7f",
   "metadata": {},
   "outputs": [
    {
     "data": {
      "text/plain": [
       "True"
      ]
     },
     "execution_count": 18,
     "metadata": {},
     "output_type": "execute_result"
    }
   ],
   "source": [
    "'mykey' in {'mykey':123}"
   ]
  },
  {
   "cell_type": "code",
   "execution_count": 19,
   "id": "b00ef69e",
   "metadata": {},
   "outputs": [
    {
     "data": {
      "text/plain": [
       "False"
      ]
     },
     "execution_count": 19,
     "metadata": {},
     "output_type": "execute_result"
    }
   ],
   "source": [
    "d={'mykey':123}\n",
    "\n",
    "345 in d"
   ]
  },
  {
   "cell_type": "code",
   "execution_count": 20,
   "id": "d98c5b0b",
   "metadata": {},
   "outputs": [
    {
     "data": {
      "text/plain": [
       "False"
      ]
     },
     "execution_count": 20,
     "metadata": {},
     "output_type": "execute_result"
    }
   ],
   "source": [
    "d={'mykey':123}\n",
    "\n",
    "123 in d"
   ]
  },
  {
   "cell_type": "code",
   "execution_count": 22,
   "id": "a0f0a666",
   "metadata": {},
   "outputs": [
    {
     "data": {
      "text/plain": [
       "True"
      ]
     },
     "execution_count": 22,
     "metadata": {},
     "output_type": "execute_result"
    }
   ],
   "source": [
    "d={'mykey':123}\n",
    "\n",
    "123 in d.values()"
   ]
  },
  {
   "cell_type": "code",
   "execution_count": 23,
   "id": "d6fbcf66",
   "metadata": {},
   "outputs": [
    {
     "data": {
      "text/plain": [
       "True"
      ]
     },
     "execution_count": 23,
     "metadata": {},
     "output_type": "execute_result"
    }
   ],
   "source": [
    "d={'mykey':123}\n",
    "\n",
    "'mykey' in d"
   ]
  },
  {
   "cell_type": "code",
   "execution_count": null,
   "id": "5a36f06e",
   "metadata": {},
   "outputs": [],
   "source": []
  },
  {
   "cell_type": "code",
   "execution_count": null,
   "id": "d8446cb1",
   "metadata": {},
   "outputs": [],
   "source": []
  },
  {
   "cell_type": "code",
   "execution_count": 24,
   "id": "9c5f1ff0",
   "metadata": {},
   "outputs": [],
   "source": [
    "#MIN AND MAX\n",
    "\n",
    "mylist=[10,20,30,40,50,60]"
   ]
  },
  {
   "cell_type": "code",
   "execution_count": 25,
   "id": "9a3677e3",
   "metadata": {},
   "outputs": [
    {
     "data": {
      "text/plain": [
       "10"
      ]
     },
     "execution_count": 25,
     "metadata": {},
     "output_type": "execute_result"
    }
   ],
   "source": [
    "min(mylist)"
   ]
  },
  {
   "cell_type": "code",
   "execution_count": 26,
   "id": "3b342ce0",
   "metadata": {},
   "outputs": [
    {
     "data": {
      "text/plain": [
       "60"
      ]
     },
     "execution_count": 26,
     "metadata": {},
     "output_type": "execute_result"
    }
   ],
   "source": [
    "max(mylist)"
   ]
  },
  {
   "cell_type": "code",
   "execution_count": null,
   "id": "f1cfbf50",
   "metadata": {},
   "outputs": [],
   "source": []
  },
  {
   "cell_type": "code",
   "execution_count": null,
   "id": "adf78966",
   "metadata": {},
   "outputs": [],
   "source": []
  },
  {
   "cell_type": "code",
   "execution_count": 27,
   "id": "42779f49",
   "metadata": {},
   "outputs": [],
   "source": [
    "#FROM    --- RANDOM LIBRARY\n",
    "#THIS IS EXAMPLE OF IMPORTING LIBRARY\n",
    "#shuffle is exist library/built-in function\n",
    "\n",
    "from random import shuffle"
   ]
  },
  {
   "cell_type": "code",
   "execution_count": 28,
   "id": "f426a1e9",
   "metadata": {},
   "outputs": [],
   "source": [
    "mylist=[1,2,3,4,5,6,7,8,9,10]"
   ]
  },
  {
   "cell_type": "code",
   "execution_count": 29,
   "id": "0d80c7a9",
   "metadata": {},
   "outputs": [],
   "source": [
    "shuffle(mylist)"
   ]
  },
  {
   "cell_type": "code",
   "execution_count": 30,
   "id": "56f2a134",
   "metadata": {},
   "outputs": [
    {
     "data": {
      "text/plain": [
       "[9, 6, 5, 4, 2, 3, 10, 7, 8, 1]"
      ]
     },
     "execution_count": 30,
     "metadata": {},
     "output_type": "execute_result"
    }
   ],
   "source": [
    "mylist"
   ]
  },
  {
   "cell_type": "code",
   "execution_count": 31,
   "id": "4b0b3c2d",
   "metadata": {},
   "outputs": [],
   "source": [
    "shuffle(mylist)"
   ]
  },
  {
   "cell_type": "code",
   "execution_count": 32,
   "id": "0e9f5c59",
   "metadata": {},
   "outputs": [
    {
     "data": {
      "text/plain": [
       "[4, 1, 6, 3, 9, 7, 2, 10, 5, 8]"
      ]
     },
     "execution_count": 32,
     "metadata": {},
     "output_type": "execute_result"
    }
   ],
   "source": [
    "mylist"
   ]
  },
  {
   "cell_type": "code",
   "execution_count": null,
   "id": "69f0ad9e",
   "metadata": {},
   "outputs": [],
   "source": []
  },
  {
   "cell_type": "code",
   "execution_count": null,
   "id": "b691bc6b",
   "metadata": {},
   "outputs": [],
   "source": []
  },
  {
   "cell_type": "code",
   "execution_count": 33,
   "id": "9823fbf5",
   "metadata": {},
   "outputs": [],
   "source": [
    "#GRABBING RANDOM INTEGER NUMBER\n",
    "\n",
    "from random import randint"
   ]
  },
  {
   "cell_type": "code",
   "execution_count": 34,
   "id": "507a0dad",
   "metadata": {},
   "outputs": [
    {
     "data": {
      "text/plain": [
       "2"
      ]
     },
     "execution_count": 34,
     "metadata": {},
     "output_type": "execute_result"
    }
   ],
   "source": [
    "randint(0,20)"
   ]
  },
  {
   "cell_type": "code",
   "execution_count": 35,
   "id": "4d14cbf8",
   "metadata": {},
   "outputs": [
    {
     "data": {
      "text/plain": [
       "4"
      ]
     },
     "execution_count": 35,
     "metadata": {},
     "output_type": "execute_result"
    }
   ],
   "source": [
    "randint(1,20)"
   ]
  },
  {
   "cell_type": "code",
   "execution_count": 36,
   "id": "eec7463f",
   "metadata": {},
   "outputs": [
    {
     "data": {
      "text/plain": [
       "19"
      ]
     },
     "execution_count": 36,
     "metadata": {},
     "output_type": "execute_result"
    }
   ],
   "source": [
    "randint(0,20)"
   ]
  },
  {
   "cell_type": "code",
   "execution_count": 37,
   "id": "aebf6379",
   "metadata": {},
   "outputs": [],
   "source": [
    "num=randint(1,20)"
   ]
  },
  {
   "cell_type": "code",
   "execution_count": 38,
   "id": "806aa860",
   "metadata": {},
   "outputs": [
    {
     "data": {
      "text/plain": [
       "4"
      ]
     },
     "execution_count": 38,
     "metadata": {},
     "output_type": "execute_result"
    }
   ],
   "source": [
    "num"
   ]
  },
  {
   "cell_type": "code",
   "execution_count": null,
   "id": "bd7e0306",
   "metadata": {},
   "outputs": [],
   "source": []
  },
  {
   "cell_type": "code",
   "execution_count": null,
   "id": "0b707664",
   "metadata": {},
   "outputs": [],
   "source": []
  },
  {
   "cell_type": "code",
   "execution_count": 39,
   "id": "ac5d4ea3",
   "metadata": {},
   "outputs": [
    {
     "name": "stdout",
     "output_type": "stream",
     "text": [
      "Enter a number:20\n"
     ]
    },
    {
     "data": {
      "text/plain": [
       "'20'"
      ]
     },
     "execution_count": 39,
     "metadata": {},
     "output_type": "execute_result"
    }
   ],
   "source": [
    "#INPUT IS USED FOR INPUT SOMETHINGS FROM USER\n",
    "\n",
    "input('Enter a number:')"
   ]
  },
  {
   "cell_type": "code",
   "execution_count": 40,
   "id": "6c904ae5",
   "metadata": {},
   "outputs": [
    {
     "name": "stdout",
     "output_type": "stream",
     "text": [
      "Enter a number:12\n"
     ]
    }
   ],
   "source": [
    "result=input('Enter a number:')"
   ]
  },
  {
   "cell_type": "code",
   "execution_count": 41,
   "id": "8758c56e",
   "metadata": {},
   "outputs": [
    {
     "data": {
      "text/plain": [
       "'12'"
      ]
     },
     "execution_count": 41,
     "metadata": {},
     "output_type": "execute_result"
    }
   ],
   "source": [
    "result"
   ]
  },
  {
   "cell_type": "code",
   "execution_count": 42,
   "id": "4db3dedf",
   "metadata": {},
   "outputs": [
    {
     "data": {
      "text/plain": [
       "str"
      ]
     },
     "execution_count": 42,
     "metadata": {},
     "output_type": "execute_result"
    }
   ],
   "source": [
    "type(result)"
   ]
  },
  {
   "cell_type": "code",
   "execution_count": 43,
   "id": "311077c1",
   "metadata": {},
   "outputs": [
    {
     "data": {
      "text/plain": [
       "12"
      ]
     },
     "execution_count": 43,
     "metadata": {},
     "output_type": "execute_result"
    }
   ],
   "source": [
    "int(result)"
   ]
  },
  {
   "cell_type": "code",
   "execution_count": 44,
   "id": "e9cbb491",
   "metadata": {},
   "outputs": [
    {
     "data": {
      "text/plain": [
       "12.0"
      ]
     },
     "execution_count": 44,
     "metadata": {},
     "output_type": "execute_result"
    }
   ],
   "source": [
    "float(result)"
   ]
  },
  {
   "cell_type": "code",
   "execution_count": 1,
   "id": "19509c59",
   "metadata": {},
   "outputs": [
    {
     "name": "stdout",
     "output_type": "stream",
     "text": [
      "Enter a Number:12\n",
      "Enter a Number:20\n"
     ]
    }
   ],
   "source": [
    "a=input('Enter a Number:')\n",
    "b=input('Enter a Number:')"
   ]
  },
  {
   "cell_type": "code",
   "execution_count": 2,
   "id": "53fc2d87",
   "metadata": {},
   "outputs": [],
   "source": [
    "sum=int(a)+int(b)"
   ]
  },
  {
   "cell_type": "code",
   "execution_count": 3,
   "id": "207aa24c",
   "metadata": {},
   "outputs": [
    {
     "data": {
      "text/plain": [
       "32"
      ]
     },
     "execution_count": 3,
     "metadata": {},
     "output_type": "execute_result"
    }
   ],
   "source": [
    "sum"
   ]
  },
  {
   "cell_type": "code",
   "execution_count": 4,
   "id": "27e22281",
   "metadata": {},
   "outputs": [],
   "source": [
    "sum='a'+'b'"
   ]
  },
  {
   "cell_type": "code",
   "execution_count": 5,
   "id": "aa7dad1e",
   "metadata": {},
   "outputs": [
    {
     "data": {
      "text/plain": [
       "'ab'"
      ]
     },
     "execution_count": 5,
     "metadata": {},
     "output_type": "execute_result"
    }
   ],
   "source": [
    "sum"
   ]
  },
  {
   "cell_type": "code",
   "execution_count": 6,
   "id": "1efd5404",
   "metadata": {},
   "outputs": [
    {
     "data": {
      "text/plain": [
       "'1220'"
      ]
     },
     "execution_count": 6,
     "metadata": {},
     "output_type": "execute_result"
    }
   ],
   "source": [
    "a+b"
   ]
  },
  {
   "cell_type": "code",
   "execution_count": null,
   "id": "ff3253e8",
   "metadata": {},
   "outputs": [],
   "source": []
  },
  {
   "cell_type": "code",
   "execution_count": null,
   "id": "9f3e7b50",
   "metadata": {},
   "outputs": [],
   "source": []
  },
  {
   "cell_type": "code",
   "execution_count": 7,
   "id": "05a16cec",
   "metadata": {},
   "outputs": [],
   "source": [
    "#APPEND\n",
    "\n",
    "mystring='hello'"
   ]
  },
  {
   "cell_type": "code",
   "execution_count": 8,
   "id": "eee3f627",
   "metadata": {},
   "outputs": [],
   "source": [
    "mylist=[]\n",
    "\n",
    "for letter in mystring:\n",
    "    mylist.append(letter)"
   ]
  },
  {
   "cell_type": "code",
   "execution_count": 9,
   "id": "080df15e",
   "metadata": {},
   "outputs": [
    {
     "data": {
      "text/plain": [
       "['h', 'e', 'l', 'l', 'o']"
      ]
     },
     "execution_count": 9,
     "metadata": {},
     "output_type": "execute_result"
    }
   ],
   "source": [
    "mylist"
   ]
  },
  {
   "cell_type": "code",
   "execution_count": 11,
   "id": "d8925367",
   "metadata": {},
   "outputs": [],
   "source": [
    "mylist=[letter for letter in mystring]"
   ]
  },
  {
   "cell_type": "code",
   "execution_count": 12,
   "id": "ccccebc0",
   "metadata": {},
   "outputs": [
    {
     "data": {
      "text/plain": [
       "['h', 'e', 'l', 'l', 'o']"
      ]
     },
     "execution_count": 12,
     "metadata": {},
     "output_type": "execute_result"
    }
   ],
   "source": [
    "mylist"
   ]
  },
  {
   "cell_type": "code",
   "execution_count": 17,
   "id": "ddeb908b",
   "metadata": {},
   "outputs": [],
   "source": [
    "mylist=[a for letter in mystring]"
   ]
  },
  {
   "cell_type": "code",
   "execution_count": 18,
   "id": "381d2f54",
   "metadata": {},
   "outputs": [
    {
     "data": {
      "text/plain": [
       "['12', '12', '12', '12', '12']"
      ]
     },
     "execution_count": 18,
     "metadata": {},
     "output_type": "execute_result"
    }
   ],
   "source": [
    "mylist"
   ]
  },
  {
   "cell_type": "code",
   "execution_count": 19,
   "id": "3b94df31",
   "metadata": {},
   "outputs": [],
   "source": [
    "mylist=[letter for a in mystring]"
   ]
  },
  {
   "cell_type": "code",
   "execution_count": 20,
   "id": "d19112bb",
   "metadata": {},
   "outputs": [
    {
     "data": {
      "text/plain": [
       "['o', 'o', 'o', 'o', 'o']"
      ]
     },
     "execution_count": 20,
     "metadata": {},
     "output_type": "execute_result"
    }
   ],
   "source": [
    "mylist"
   ]
  },
  {
   "cell_type": "code",
   "execution_count": 21,
   "id": "6acee69c",
   "metadata": {},
   "outputs": [],
   "source": [
    "mylist=[x for x in range(0,11)]"
   ]
  },
  {
   "cell_type": "code",
   "execution_count": 22,
   "id": "086a2667",
   "metadata": {},
   "outputs": [
    {
     "data": {
      "text/plain": [
       "[0, 1, 2, 3, 4, 5, 6, 7, 8, 9, 10]"
      ]
     },
     "execution_count": 22,
     "metadata": {},
     "output_type": "execute_result"
    }
   ],
   "source": [
    "mylist"
   ]
  },
  {
   "cell_type": "code",
   "execution_count": 23,
   "id": "72fee02e",
   "metadata": {},
   "outputs": [],
   "source": [
    "mylist=[num**2 for num in range(0,11)]"
   ]
  },
  {
   "cell_type": "code",
   "execution_count": 24,
   "id": "be1db9bc",
   "metadata": {},
   "outputs": [
    {
     "data": {
      "text/plain": [
       "[0, 1, 4, 9, 16, 25, 36, 49, 64, 81, 100]"
      ]
     },
     "execution_count": 24,
     "metadata": {},
     "output_type": "execute_result"
    }
   ],
   "source": [
    "mylist"
   ]
  },
  {
   "cell_type": "code",
   "execution_count": 25,
   "id": "446428f5",
   "metadata": {},
   "outputs": [],
   "source": [
    "mylist=[x for x in range(0,11) if x%2==0]"
   ]
  },
  {
   "cell_type": "code",
   "execution_count": 26,
   "id": "371ef82f",
   "metadata": {},
   "outputs": [
    {
     "data": {
      "text/plain": [
       "[0, 2, 4, 6, 8, 10]"
      ]
     },
     "execution_count": 26,
     "metadata": {},
     "output_type": "execute_result"
    }
   ],
   "source": [
    "mylist"
   ]
  },
  {
   "cell_type": "code",
   "execution_count": 27,
   "id": "d61cc2c7",
   "metadata": {},
   "outputs": [],
   "source": [
    "mylist=[]\n",
    "\n",
    "for x in range(0,11):\n",
    "    if x%2==0:\n",
    "        mylist.append(x)"
   ]
  },
  {
   "cell_type": "code",
   "execution_count": 28,
   "id": "419f87ad",
   "metadata": {},
   "outputs": [
    {
     "data": {
      "text/plain": [
       "[0, 2, 4, 6, 8, 10]"
      ]
     },
     "execution_count": 28,
     "metadata": {},
     "output_type": "execute_result"
    }
   ],
   "source": [
    "mylist"
   ]
  },
  {
   "cell_type": "code",
   "execution_count": 37,
   "id": "06c637dc",
   "metadata": {},
   "outputs": [],
   "source": [
    "mylist=[]\n",
    "\n",
    "for x in range(0,11):\n",
    "    if x%2==0:\n",
    "        mylist.append('this is even number {}'.format(x))"
   ]
  },
  {
   "cell_type": "code",
   "execution_count": 38,
   "id": "e99b3c05",
   "metadata": {},
   "outputs": [
    {
     "data": {
      "text/plain": [
       "['this is even number 0',\n",
       " 'this is even number 2',\n",
       " 'this is even number 4',\n",
       " 'this is even number 6',\n",
       " 'this is even number 8',\n",
       " 'this is even number 10']"
      ]
     },
     "execution_count": 38,
     "metadata": {},
     "output_type": "execute_result"
    }
   ],
   "source": [
    "mylist"
   ]
  },
  {
   "cell_type": "code",
   "execution_count": 53,
   "id": "de023514",
   "metadata": {},
   "outputs": [],
   "source": [
    "mylist=[]\n",
    "\n",
    "for x in range(0,11):\n",
    "    if x%2==0:\n",
    "        mylist.append('This is even number {}'.format(x))\n",
    "    else:\n",
    "        mylist.append('This is odd number  {}'.format(x))"
   ]
  },
  {
   "cell_type": "code",
   "execution_count": 54,
   "id": "a5cd23bf",
   "metadata": {},
   "outputs": [
    {
     "data": {
      "text/plain": [
       "['This is even number 0',\n",
       " 'This is odd number  1',\n",
       " 'This is even number 2',\n",
       " 'This is odd number  3',\n",
       " 'This is even number 4',\n",
       " 'This is odd number  5',\n",
       " 'This is even number 6',\n",
       " 'This is odd number  7',\n",
       " 'This is even number 8',\n",
       " 'This is odd number  9',\n",
       " 'This is even number 10']"
      ]
     },
     "execution_count": 54,
     "metadata": {},
     "output_type": "execute_result"
    }
   ],
   "source": [
    "mylist"
   ]
  },
  {
   "cell_type": "code",
   "execution_count": 55,
   "id": "ce339b2a",
   "metadata": {},
   "outputs": [],
   "source": [
    "mylist=[x**2 for x in range(0,11) if x%2==0]"
   ]
  },
  {
   "cell_type": "code",
   "execution_count": 56,
   "id": "0ce660de",
   "metadata": {},
   "outputs": [
    {
     "data": {
      "text/plain": [
       "[0, 4, 16, 36, 64, 100]"
      ]
     },
     "execution_count": 56,
     "metadata": {},
     "output_type": "execute_result"
    }
   ],
   "source": [
    "mylist"
   ]
  },
  {
   "cell_type": "code",
   "execution_count": 57,
   "id": "89441465",
   "metadata": {},
   "outputs": [],
   "source": [
    "mylist=[]\n",
    "\n",
    "for x in range(0,11):\n",
    "    if x%2==0:\n",
    "        mylist.append(x**2)"
   ]
  },
  {
   "cell_type": "code",
   "execution_count": 58,
   "id": "53558814",
   "metadata": {},
   "outputs": [
    {
     "data": {
      "text/plain": [
       "[0, 4, 16, 36, 64, 100]"
      ]
     },
     "execution_count": 58,
     "metadata": {},
     "output_type": "execute_result"
    }
   ],
   "source": [
    "mylist"
   ]
  },
  {
   "cell_type": "code",
   "execution_count": 60,
   "id": "dea4a197",
   "metadata": {},
   "outputs": [],
   "source": [
    "celcius=[0,10,30,24.8]\n",
    "\n",
    "fre=[((9/5)*temp+32) for temp in celcius ]"
   ]
  },
  {
   "cell_type": "code",
   "execution_count": 61,
   "id": "d6deab06",
   "metadata": {},
   "outputs": [
    {
     "data": {
      "text/plain": [
       "[32.0, 50.0, 86.0, 76.64]"
      ]
     },
     "execution_count": 61,
     "metadata": {},
     "output_type": "execute_result"
    }
   ],
   "source": [
    "fre"
   ]
  },
  {
   "cell_type": "code",
   "execution_count": 63,
   "id": "17764464",
   "metadata": {},
   "outputs": [],
   "source": [
    "celcius=[0,10,30,24.8]\n",
    "fre=[]\n",
    "\n",
    "for temp in celcius:\n",
    "    fre.append(((9/5)*temp+32))"
   ]
  },
  {
   "cell_type": "code",
   "execution_count": 64,
   "id": "0b1344eb",
   "metadata": {},
   "outputs": [
    {
     "data": {
      "text/plain": [
       "[32.0, 50.0, 86.0, 76.64]"
      ]
     },
     "execution_count": 64,
     "metadata": {},
     "output_type": "execute_result"
    }
   ],
   "source": [
    "fre"
   ]
  },
  {
   "cell_type": "code",
   "execution_count": 65,
   "id": "4151f878",
   "metadata": {},
   "outputs": [],
   "source": [
    "result =[x if x%2==0 else 'ODD' for x in range(0,11)]"
   ]
  },
  {
   "cell_type": "code",
   "execution_count": 66,
   "id": "1663c8fc",
   "metadata": {},
   "outputs": [
    {
     "data": {
      "text/plain": [
       "[0, 'ODD', 2, 'ODD', 4, 'ODD', 6, 'ODD', 8, 'ODD', 10]"
      ]
     },
     "execution_count": 66,
     "metadata": {},
     "output_type": "execute_result"
    }
   ],
   "source": [
    "result"
   ]
  },
  {
   "cell_type": "code",
   "execution_count": 67,
   "id": "7c295452",
   "metadata": {},
   "outputs": [
    {
     "name": "stdout",
     "output_type": "stream",
     "text": [
      "0\n",
      "ODD\n",
      "2\n",
      "ODD\n",
      "4\n",
      "ODD\n",
      "6\n",
      "ODD\n",
      "8\n",
      "ODD\n",
      "10\n"
     ]
    }
   ],
   "source": [
    "for x in range(0,11):\n",
    "    if x%2==0:\n",
    "        print(x)\n",
    "    else:\n",
    "        print('ODD')"
   ]
  },
  {
   "cell_type": "code",
   "execution_count": 68,
   "id": "066d4f36",
   "metadata": {},
   "outputs": [],
   "source": [
    "mylist=[]\n",
    "\n",
    "for x in [2,3,4]:\n",
    "    for y in [100,200,300]:\n",
    "        mylist.append(x*y)"
   ]
  },
  {
   "cell_type": "code",
   "execution_count": 69,
   "id": "49aac66e",
   "metadata": {},
   "outputs": [
    {
     "data": {
      "text/plain": [
       "[200, 400, 600, 300, 600, 900, 400, 800, 1200]"
      ]
     },
     "execution_count": 69,
     "metadata": {},
     "output_type": "execute_result"
    }
   ],
   "source": [
    "mylist"
   ]
  },
  {
   "cell_type": "code",
   "execution_count": 70,
   "id": "b3b2d245",
   "metadata": {},
   "outputs": [],
   "source": [
    "mylist=[x*y for x in [2,3,4] for y in [100,200,300]]"
   ]
  },
  {
   "cell_type": "code",
   "execution_count": 71,
   "id": "1dbf1e80",
   "metadata": {},
   "outputs": [
    {
     "data": {
      "text/plain": [
       "[200, 400, 600, 300, 600, 900, 400, 800, 1200]"
      ]
     },
     "execution_count": 71,
     "metadata": {},
     "output_type": "execute_result"
    }
   ],
   "source": [
    "mylist"
   ]
  },
  {
   "cell_type": "code",
   "execution_count": null,
   "id": "3379fcb6",
   "metadata": {},
   "outputs": [],
   "source": []
  }
 ],
 "metadata": {
  "kernelspec": {
   "display_name": "Python 3 (ipykernel)",
   "language": "python",
   "name": "python3"
  },
  "language_info": {
   "codemirror_mode": {
    "name": "ipython",
    "version": 3
   },
   "file_extension": ".py",
   "mimetype": "text/x-python",
   "name": "python",
   "nbconvert_exporter": "python",
   "pygments_lexer": "ipython3",
   "version": "3.9.13"
  }
 },
 "nbformat": 4,
 "nbformat_minor": 5
}
